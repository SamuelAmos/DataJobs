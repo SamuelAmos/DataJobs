{
 "cells": [
  {
   "cell_type": "code",
   "execution_count": 85,
   "metadata": {},
   "outputs": [
    {
     "name": "stderr",
     "output_type": "stream",
     "text": [
      "[nltk_data] Downloading package stopwords to\n",
      "[nltk_data]     C:\\Users\\samos\\AppData\\Roaming\\nltk_data...\n",
      "[nltk_data]   Unzipping corpora\\stopwords.zip.\n"
     ]
    }
   ],
   "source": [
    "import numpy as np\n",
    "import pandas as pd\n",
    "from pandas import Series, DataFrame\n",
    "import matplotlib.pyplot as plt\n",
    "from matplotlib import rcParams\n",
    "nltk.download('stopwords')\n",
    "\n",
    "from nltk.tokenize import word_tokenize\n",
    "from nltk.corpus import stopwords\n",
    "from nltk.stem.wordnet import WordNetLemmatizer\n",
    "from nltk.stem.porter import PorterStemmer"
   ]
  },
  {
   "cell_type": "code",
   "execution_count": 24,
   "metadata": {},
   "outputs": [
    {
     "data": {
      "text/plain": [
       "count      265.000000\n",
       "mean     27856.586377\n",
       "std      16397.843641\n",
       "min          0.000000\n",
       "25%      20000.000000\n",
       "50%      29594.000000\n",
       "75%      40000.000000\n",
       "max      70000.000000\n",
       "Name: minimumsalary, dtype: float64"
      ]
     },
     "execution_count": 24,
     "metadata": {},
     "output_type": "execute_result"
    }
   ],
   "source": [
    "address = 'C:/Users/samos/OneDrive/Documents/Data Science/Introductory mini challenges/jobs_data_data-analyst.csv'\n",
    "\n",
    "data_analyst = pd.read_csv(address)\n",
    "data_analyst.columns = [\"jobid\",'employerid','employername',\"employerprofileid\",'employerprofilename','jobtitle', 'locationname', 'minimumsalary', 'maxiumsalary', 'currency', 'expirationdate', 'date', 'jobdescription', 'applicator',\"jobUrl\",\"fulldescription\"]\n",
    "\n",
    "Jobsalaryanalyst=data_analyst[\"minimumsalary\"]\n",
    "\n",
    "Jobsalaryanalyst2=Jobsalaryanalyst.dropna()\n",
    "\n",
    "Jobsalaryanalyst2.describe()"
   ]
  },
  {
   "cell_type": "code",
   "execution_count": 22,
   "metadata": {},
   "outputs": [
    {
     "data": {
      "text/plain": [
       "count       375.000000\n",
       "mean      47739.721200\n",
       "std       26217.671633\n",
       "min           0.000000\n",
       "25%       35000.000000\n",
       "50%       55000.000000\n",
       "75%       65000.000000\n",
       "max      110000.000000\n",
       "Name: minimumsalary, dtype: float64"
      ]
     },
     "execution_count": 22,
     "metadata": {},
     "output_type": "execute_result"
    }
   ],
   "source": [
    "address2 = 'C:/Users/samos/OneDrive/Documents/Data Science/Introductory mini challenges/jobs_data_data-engineer.csv'\n",
    "\n",
    "data_engineer = pd.read_csv(address2)\n",
    "data_engineer.columns = [\"jobid\",'employerid','employername',\"employerprofileid\",'employerprofilename','jobtitle', 'locationname', 'minimumsalary', 'maxiumsalary', 'currency', 'expirationdate', 'date', 'jobdescription', 'applicator',\"jobUrl\",\"fulldescription\"]\n",
    "\n",
    "Jobsalaryengineer=data_engineer[\"minimumsalary\"]\n",
    "\n",
    "Jobsalaryengineer2=Jobsalaryengineer.dropna()\n",
    "\n",
    "Jobsalaryengineer2.describe()"
   ]
  },
  {
   "cell_type": "code",
   "execution_count": 23,
   "metadata": {},
   "outputs": [
    {
     "data": {
      "text/plain": [
       "count       572.000000\n",
       "mean      52558.945035\n",
       "std       25473.747075\n",
       "min           0.000000\n",
       "25%       40000.000000\n",
       "50%       55000.000000\n",
       "75%       70000.000000\n",
       "max      125000.000000\n",
       "Name: minimumsalary, dtype: float64"
      ]
     },
     "execution_count": 23,
     "metadata": {},
     "output_type": "execute_result"
    }
   ],
   "source": [
    "address3 = 'C:/Users/samos/OneDrive/Documents/Data Science/Introductory mini challenges/jobs_data_data-scientist.csv'\n",
    "\n",
    "data_scientist = pd.read_csv(address3)\n",
    "data_scientist.columns = [\"jobid\",'employerid','employername',\"employerprofileid\",'employerprofilename','jobtitle', 'locationname', 'minimumsalary', 'maxiumsalary', 'currency', 'expirationdate', 'date', 'jobdescription', 'applicator',\"jobUrl\",\"fulldescription\"]\n",
    "\n",
    "Jobsalaryscientist=data_scientist[\"minimumsalary\"]\n",
    "\n",
    "Jobsalaryscientist2=Jobsalaryscientist.dropna()\n",
    "\n",
    "Jobsalaryscientist2.describe()"
   ]
  },
  {
   "cell_type": "code",
   "execution_count": 36,
   "metadata": {},
   "outputs": [
    {
     "data": {
      "text/plain": [
       "Text(0, 0.5, 'First quartile salary advertised for each job role (£)')"
      ]
     },
     "execution_count": 36,
     "metadata": {},
     "output_type": "execute_result"
    },
    {
     "data": {
      "image/png": "[encoded data removed]",
      "text/plain": [
       "<Figure size 432x288 with 1 Axes>"
      ]
     },
     "metadata": {},
     "output_type": "display_data"
    }
   ],
   "source": [
    "x = [\"Analyst\", \"Engineer\", \"Data Scientist\"]\n",
    "\n",
    "color_theme = ['darkgray', 'lightsalmon', 'powderblue']\n",
    "y = [20000,26217,40000]\n",
    "plt.bar(x,y, color=color_theme)\n",
    "\n",
    "plt.xlabel('Job role')\n",
    "plt.ylabel('First quartile salary advertised for each job role (£)')"
   ]
  },
  {
   "cell_type": "code",
   "execution_count": 35,
   "metadata": {},
   "outputs": [
    {
     "data": {
      "text/plain": [
       "Text(0, 0.5, 'Mean minimum salary advertised for each job role')"
      ]
     },
     "execution_count": 35,
     "metadata": {},
     "output_type": "execute_result"
    },
    {
     "data": {
      "image/png": "[encoded data removed]",
      "text/plain": [
       "<Figure size 432x288 with 1 Axes>"
      ]
     },
     "metadata": {},
     "output_type": "display_data"
    }
   ],
   "source": [
    "x = [\"Analyst\", \"Engineer\", \"Data Scientist\"]\n",
    "\n",
    "color_theme = ['darkgray', 'lightsalmon', 'powderblue']\n",
    "y = [27900,47000,52560]\n",
    "plt.bar(x,y, color=color_theme)\n",
    "\n",
    "plt.xlabel('Job role')\n",
    "plt.ylabel('Mean minimum salary advertised for each job role')\n"
   ]
  },
  {
   "cell_type": "code",
   "execution_count": 60,
   "metadata": {},
   "outputs": [
    {
     "data": {
      "text/plain": [
       "<AxesSubplot:>"
      ]
     },
     "execution_count": 60,
     "metadata": {},
     "output_type": "execute_result"
    },
    {
     "data": {
      "image/png": "[encoded data removed]",
      "text/plain": [
       "<Figure size 432x288 with 1 Axes>"
      ]
     },
     "metadata": {},
     "output_type": "display_data"
    }
   ],
   "source": [
    "address = 'C:/Users/samos/OneDrive/Documents/Data Science/Introductory mini challenges/jobs_data_data-scientist.csv'\n",
    "\n",
    "data_scientist = pd.read_csv(address3)\n",
    "data_scientist.columns = [\"jobid\",'employerid','employername',\"employerprofileid\",'employerprofilename','jobtitle', 'locationname', 'minimumsalary', 'maxiumsalary', 'currency', 'expirationdate', 'date', 'jobdescription', 'applicator',\"jobUrl\",\"fulldescription\"]\n",
    "\n",
    "Location=data_scientist[\"locationname\"]\n",
    "\n",
    "threshold = 8 \n",
    "value_counts = Location.value_counts() \n",
    "to_remove = value_counts[value_counts <= threshold].index\n",
    "Location.replace(to_remove, np.nan, inplace=True)\n",
    "\n",
    "Location.value_counts().plot(kind=\"bar\")\n",
    "\n",
    "\n",
    "+\n"
   ]
  },
  {
   "cell_type": "code",
   "execution_count": 95,
   "metadata": {},
   "outputs": [
    {
     "name": "stdout",
     "output_type": "stream",
     "text": [
      "             Frequency\n",
      "Word                  \n",
      "data              2723\n",
      "<p>                919\n",
      "analyst            659\n",
      "/><br              611\n",
      "<ul>               608\n",
      "business           577\n",
      "experience         502\n",
      "working            449\n",
      "work               420\n",
      "-                  397\n",
      "role               379\n",
      "team               362\n",
      "skills             354\n",
      "support            353\n",
      "within             348\n",
      "/>                 342\n",
      "<br                323\n",
      "new                288\n",
      "analysis           279\n",
      "/                  273\n",
      "looking            265\n",
      "<p><strong>        263\n",
      "&amp;              247\n",
      "using              233\n",
      "sql                219\n",
      "analytical         218\n",
      "key                218\n",
      "client             213\n",
      "management         212\n",
      "opportunity        209\n",
      "ability            202\n",
      "across             200\n",
      "please             198\n",
      "knowledge          197\n",
      "customer           192\n",
      "reporting          188\n",
      "senior             186\n",
      "join               185\n",
      "including          177\n",
      "based              175\n",
      "information        175\n",
      "provide            172\n",
      "company            168\n",
      "'                  161\n",
      "part               159\n",
      "analytics          158\n",
      "well               153\n",
      "strong             151\n",
      "</p>               148\n",
      "development        146\n"
     ]
    }
   ],
   "source": [
    "\n",
    "from collections import Counter\n",
    "import pandas as pd\n",
    "import nltk\n",
    "from nltk.corpus import stopwords\n",
    "address = 'C:/Users/samos/OneDrive/Documents/Data Science/Introductory mini challenges/jobs_data_data-analyst.csv'\n",
    "\n",
    "df = pd.read_csv(address)\n",
    "df.columns = [\"jobid\",'employerid','employername',\"employerprofileid\",'employerprofilename','jobtitle', 'locationname', 'minimumsalary', 'maxiumsalary', 'currency', 'expirationdate', 'date', 'jobdescription', 'applicator',\"jobUrl\",\"fulldescription\"]\n",
    "\n",
    "top_N = 50\n",
    "\n",
    "stopwords = nltk.corpus.stopwords.words('english')\n",
    "\n",
    "RE_stopwords = r'\\b(?:{})\\b'.format('|'.join(stopwords))\n",
    "\n",
    "words = (df.fulldescription\n",
    "           .str.lower()\n",
    "           .replace([r'\\|', RE_stopwords], [' ', ''], regex=True)\n",
    "           .str.cat(sep=' ')\n",
    "           .split()\n",
    ")\n",
    "\n",
    "\n",
    "rslt = pd.DataFrame(Counter(words).most_common(top_N),\n",
    "                    columns=['Word', 'Frequency']).set_index('Word')\n",
    "print(rslt)\n",
    "\n",
    "\n",
    "\n"
   ]
  },
  {
   "cell_type": "code",
   "execution_count": 96,
   "metadata": {},
   "outputs": [
    {
     "name": "stdout",
     "output_type": "stream",
     "text": [
      "               Frequency\n",
      "Word                    \n",
      "data                4645\n",
      "<p>                 1039\n",
      "engineer             992\n",
      "<ul>                 822\n",
      "experience           779\n",
      "/><br                764\n",
      "<br                  739\n",
      "working              671\n",
      "<p><strong>          656\n",
      "-                    591\n",
      "work                 565\n",
      "team                 521\n",
      "business             483\n",
      "using                462\n",
      "role                 427\n",
      "/>                   417\n",
      "/                    407\n",
      "learning             383\n",
      "skills               356\n",
      "machine              337\n",
      "looking              326\n",
      "</strong></p>        323\n",
      "opportunity          316\n",
      "'                    307\n",
      "engineering          296\n",
      "company              290\n",
      "&amp;                288\n",
      "new                  284\n",
      "join                 265\n",
      "building             259\n",
      "sql                  255\n",
      "apply                252\n",
      "development          245\n",
      "within               243\n",
      "</p>                 239\n",
      "azure                235\n",
      "including            229\n",
      "big                  221\n",
      "knowledge            220\n",
      "cloud                220\n",
      "aws                  219\n",
      "python               216\n",
      "analytics            215\n",
      "/>*                  213\n",
      "based                201\n",
      "/>-                  201\n",
      "solutions            195\n",
      "technical            193\n",
      "etl                  193\n",
      "one                  192\n"
     ]
    }
   ],
   "source": [
    "\n",
    "from collections import Counter\n",
    "import pandas as pd\n",
    "import nltk\n",
    "from nltk.corpus import stopwords\n",
    "address = 'C:/Users/samos/OneDrive/Documents/Data Science/Introductory mini challenges/jobs_data_data-engineer.csv'\n",
    "\n",
    "df2 = pd.read_csv(address)\n",
    "df2.columns = [\"jobid\",'employerid','employername',\"employerprofileid\",'employerprofilename','jobtitle', 'locationname', 'minimumsalary', 'maxiumsalary', 'currency', 'expirationdate', 'date', 'jobdescription', 'applicator',\"jobUrl\",\"fulldescription\"]\n",
    "\n",
    "top_N = 50\n",
    "\n",
    "stopwords = nltk.corpus.stopwords.words('english')\n",
    "\n",
    "RE_stopwords = r'\\b(?:{})\\b'.format('|'.join(stopwords))\n",
    "\n",
    "words = (df2.fulldescription\n",
    "           .str.lower()\n",
    "           .replace([r'\\|', RE_stopwords], [' ', ''], regex=True)\n",
    "           .str.cat(sep=' ')\n",
    "           .split()\n",
    ")\n",
    "\n",
    "\n",
    "rslt = pd.DataFrame(Counter(words).most_common(top_N),\n",
    "                    columns=['Word', 'Frequency']).set_index('Word')\n",
    "print(rslt)"
   ]
  },
  {
   "cell_type": "code",
   "execution_count": 97,
   "metadata": {},
   "outputs": [
    {
     "name": "stdout",
     "output_type": "stream",
     "text": [
      "             Frequency\n",
      "Word                  \n",
      "data              5826\n",
      "<p>               1894\n",
      "experience        1395\n",
      "scientist         1391\n",
      "machine           1304\n",
      "<ul>              1208\n",
      "learning          1189\n",
      "science           1185\n",
      "/><br             1182\n",
      "<p><strong>       1130\n",
      "working           1055\n",
      "work               948\n",
      "business           943\n",
      "-                  917\n",
      "team               916\n",
      "using              770\n",
      "role               672\n",
      "/>                 646\n",
      "skills             634\n",
      "company            584\n",
      "models             579\n",
      "within             578\n",
      "customer           572\n",
      "/                  558\n",
      "<br                543\n",
      "looking            543\n",
      "new                511\n",
      "senior             501\n",
      "apply              501\n",
      "opportunity        461\n",
      "join               448\n",
      "'                  448\n",
      "analytics          445\n",
      "statistical        435\n",
      "across             404\n",
      "python             394\n",
      "projects           391\n",
      "technical          380\n",
      "strong             377\n",
      "techniques         373\n",
      "knowledge          368\n",
      "/>-                353\n",
      "development        351\n",
      "scientist,         350\n",
      "lead               348\n",
      "modelling          346\n",
      "please             336\n",
      "&amp;              324\n",
      "analysis           323\n",
      "</p>               322\n"
     ]
    }
   ],
   "source": [
    "from collections import Counter\n",
    "import pandas as pd\n",
    "import nltk\n",
    "from nltk.corpus import stopwords\n",
    "address = 'C:/Users/samos/OneDrive/Documents/Data Science/Introductory mini challenges/jobs_data_data-scientist.csv'\n",
    "\n",
    "df3 = pd.read_csv(address)\n",
    "df3.columns = [\"jobid\",'employerid','employername',\"employerprofileid\",'employerprofilename','jobtitle', 'locationname', 'minimumsalary', 'maxiumsalary', 'currency', 'expirationdate', 'date', 'jobdescription', 'applicator',\"jobUrl\",\"fulldescription\"]\n",
    "\n",
    "top_N = 50\n",
    "\n",
    "stopwords = nltk.corpus.stopwords.words('english')\n",
    "\n",
    "RE_stopwords = r'\\b(?:{})\\b'.format('|'.join(stopwords))\n",
    "\n",
    "words = (df3.fulldescription\n",
    "           .str.lower()\n",
    "           .replace([r'\\|', RE_stopwords], [' ', ''], regex=True)\n",
    "           .str.cat(sep=' ')\n",
    "           .split()\n",
    ")\n",
    "\n",
    "\n",
    "rslt = pd.DataFrame(Counter(words).most_common(top_N),\n",
    "                    columns=['Word', 'Frequency']).set_index('Word')\n",
    "print(rslt)"
   ]
  }
 ],
 "metadata": {
  "kernelspec": {
   "display_name": "Python 3",
   "language": "python",
   "name": "python3"
  },
  "language_info": {
   "codemirror_mode": {
    "name": "ipython",
    "version": 3
   },
   "file_extension": ".py",
   "mimetype": "text/x-python",
   "name": "python",
   "nbconvert_exporter": "python",
   "pygments_lexer": "ipython3",
   "version": "3.8.5"
  }
 },
 "nbformat": 4,
 "nbformat_minor": 4
}
